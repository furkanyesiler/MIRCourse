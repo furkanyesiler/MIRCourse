{
 "cells": [
  {
   "cell_type": "markdown",
   "metadata": {},
   "source": [
    "## Downloading data\n",
    "\n",
    "This notebook demonstrates downloading data from an url. It also creates a folder in the 'data' folder and unzips all the files there. We will be using some of these files for our melody extraction examples."
   ]
  },
  {
   "cell_type": "code",
   "execution_count": 1,
   "metadata": {},
   "outputs": [],
   "source": [
    "import urllib.request\n",
    "import zipfile\n",
    "import os, sys,shutil"
   ]
  },
  {
   "cell_type": "code",
   "execution_count": 2,
   "metadata": {},
   "outputs": [
    {
     "name": "stdout",
     "output_type": "stream",
     "text": [
      "Data downloaded and unzipped to:  ../data/melody/mirex05TrainFiles\n"
     ]
    }
   ],
   "source": [
    "finalDataFolderCreated='../data/melody/mirex05TrainFiles'\n",
    "if not os.path.exists(finalDataFolderCreated):\n",
    "    #Initialization\n",
    "    url='https://labrosa.ee.columbia.edu/projects/melody/mirex05TrainFiles.zip'\n",
    "    filename='mirex05TrainFiles.zip'\n",
    "    targetDir='../data/melody/'\n",
    "    if not os.path.exists(targetDir):#creating the directory\n",
    "        os.mkdir(targetDir);\n",
    "    finalDataDir=targetDir+filename.replace('.zip','')\n",
    "    #Downloading the zip file from the url\n",
    "    urllib.request.urlretrieve(url,filename)\n",
    "    #Unzipping to a specific folder\n",
    "    zip_ref = zipfile.ZipFile(filename, 'r')\n",
    "    zip_ref.extractall(targetDir)\n",
    "    zip_ref.close()\n",
    "    os.remove(filename)#Removing the zip file\n",
    "    print('Data downloaded and unzipped to: ',finalDataDir)\n",
    "else:\n",
    "    print('Folder ',finalDataFolderCreated,' already exists, delete it if you want to re-download data')\n",
    "        "
   ]
  },
  {
   "cell_type": "code",
   "execution_count": null,
   "metadata": {},
   "outputs": [],
   "source": []
  }
 ],
 "metadata": {
  "kernelspec": {
   "display_name": "Python 3",
   "language": "python",
   "name": "python3"
  },
  "language_info": {
   "codemirror_mode": {
    "name": "ipython",
    "version": 3
   },
   "file_extension": ".py",
   "mimetype": "text/x-python",
   "name": "python",
   "nbconvert_exporter": "python",
   "pygments_lexer": "ipython3",
   "version": "3.5.2"
  }
 },
 "nbformat": 4,
 "nbformat_minor": 2
}
